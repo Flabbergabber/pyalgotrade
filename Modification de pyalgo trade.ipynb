{
 "cells": [
  {
   "cell_type": "markdown",
   "metadata": {},
   "source": [
    "# Modification du code de pyalgotrade\n",
    "## Ajout des contrats \n",
    "\n",
    "La méthodologie qui va être utilisée est d'ajouter les contrat et les méthodes utilisant les contrats dans backtesting.py\n",
    "\n",
    "exemple contenu dans backtesting.py (Pyalgotrade)"
   ]
  },
  {
   "cell_type": "code",
   "execution_count": null,
   "metadata": {
    "collapsed": true
   },
   "outputs": [],
   "source": [
    "def createMarketOrder(self, action, instrument, quantity, onClose=False):\n",
    "        # In order to properly support market-on-close with intraday feeds I'd need to know about different\n",
    "        # exchange/market trading hours and support specifying routing an order to a specific exchange/market.\n",
    "        # Even if I had all this in place it would be a problem while paper-trading with a live feed since\n",
    "        # I can't tell if the next bar will be the last bar of the market session or not.\n",
    "        if onClose is True and self.__barFeed.isIntraday():\n",
    "            raise Exception(\"Market-on-close not supported with intraday feeds\")\n",
    "\n",
    "        return MarketOrder(action, instrument, quantity, onClose, self.getInstrumentTraits(instrument))"
   ]
  },
  {
   "cell_type": "markdown",
   "metadata": {},
   "source": [
    "Exemple comtenu dans IbBroker.py (le code de débogage à été retiré)"
   ]
  },
  {
   "cell_type": "code",
   "execution_count": null,
   "metadata": {
    "collapsed": true
   },
   "outputs": [],
   "source": [
    "def createMarketOrder(self, contract,action, quantity, GoodTillCanceled = True,AllOrNone = True):\n",
    "        ibContract=contract\n",
    "        \n",
    "        ibOrder=Order()\n",
    "        ibOrder.m_orderId       = self.__getUniqueOrderId()\n",
    "        ibOrder.m_totalQuantity = quantity\n",
    "        \n",
    "        if action == 'BUY':\n",
    "            ibOrder.m_action    = 'BUY'\n",
    "        elif action == 'SELL':\n",
    "            ibOrder.m_action = 'SELL'\n",
    " \n",
    "        ibOrder.m_orderType = 'MKT'\n",
    " \n",
    "        if AllOrNone == AllOrNone:\n",
    "            ibOrder.m_allOrNone = 1\n",
    "        else:\n",
    "            ibOrder.m_allOrNone = 0\n",
    "\n",
    "        if GoodTillCanceled == True:\n",
    "            ibOrder.m_tif = 'GTC'\n",
    "        else:\n",
    "            ibOrder.m_tif = 'DAY'\n",
    "            \n",
    "        self.__setOrderStatus(contract=contract,order=order,status='GENERATED', datetime=datetime.datetime.now())\n",
    "        self.__registerOrder(contract=contract,order=order,status='GENERATED',datetime=datetime.datetime.now())\n",
    "        if self.__debug:\n",
    "            print('%s[IB LiveBroker createMarketOrder]INCREASE ORDER ID: %s' %(now,self.__nextOrderId))"
   ]
  },
  {
   "cell_type": "markdown",
   "metadata": {},
   "source": [
    "Pour tester l'utilisation des contrats, la stratégie \"tutorial-4.py\" sera utilisée, puisqu'elle fait plusieurs transaction d'action. En premier lieux les contrats de stock sera implémentés, puis lorsque fonctionnel la gestion des autres typs de transaction pouront être ajoutées"
   ]
  },
  {
   "cell_type": "markdown",
   "metadata": {},
   "source": [
    "Première modification, ajout du order \"OptionOrder\" basé sur marketorder, dans backtesting.py"
   ]
  },
  {
   "cell_type": "code",
   "execution_count": null,
   "metadata": {
    "collapsed": true
   },
   "outputs": [],
   "source": [
    "class MarketOrder(broker.MarketOrder, BacktestingOrder):\n",
    "    def __init__(self, action, instrument, quantity, onClose, instrumentTraits):\n",
    "        super(MarketOrder, self).__init__(action, instrument, quantity, onClose, instrumentTraits)\n",
    "\n",
    "    def process(self, broker_, bar_):\n",
    "        return broker_.getFillStrategy().fillMarketOrder(broker_, self, bar_)\n",
    "\n",
    "class OptionOrder(broker.OptionOrder, BacktestingOrder):\n",
    "    def __init__(self, action, instrument, quantity, onClose, instrumentTraits, right, strike, expiry):\n",
    "        super(OptionOrder, self).__init__(action, instrument, quantity, onClose, instrumentTraits , right, strike, expiry)\n",
    "\n",
    "    def process(self, broker_, bar_):\n",
    "        return broker_.getFillStrategy().fillOptionOrder(broker_, self, bar_)\n"
   ]
  },
  {
   "cell_type": "markdown",
   "metadata": {},
   "source": [
    "Deuxième modification, ajout de la méthode createOptionOrder, basée sur createMarketOrder, dans backtesting.py. Cette modification sera aussi appliquée pour limitOrder, stopOrder, stopLImitOrder"
   ]
  },
  {
   "cell_type": "code",
   "execution_count": null,
   "metadata": {
    "collapsed": true
   },
   "outputs": [],
   "source": [
    "def createMarketOrder(self, action, instrument, quantity, onClose=False):\n",
    "        # In order to properly support market-on-close with intraday feeds I'd need to know about different\n",
    "        # exchange/market trading hours and support specifying routing an order to a specific exchange/market.\n",
    "        # Even if I had all this in place it would be a problem while paper-trading with a live feed since\n",
    "        # I can't tell if the next bar will be the last bar of the market session or not.\n",
    "        if onClose is True and self.__barFeed.isIntraday():\n",
    "            raise Exception(\"Market-on-close not supported with intraday feeds\")\n",
    "\n",
    "        return MarketOrder(action, instrument, quantity, onClose, self.getInstrumentTraits(instrument))\n",
    "    \n",
    "    \n",
    "def createOptionOrder(self, action, instrument, quantity, onClose=False):\n",
    "    # In order to properly support market-on-close with intraday feeds I'd need to know about different\n",
    "    # exchange/market trading hours and support specifying routing an order to a specific exchange/market.\n",
    "    # Even if I had all this in place it would be a problem while paper-trading with a live feed since\n",
    "    # I can't tell if the next bar will be the last bar of the market session or not.\n",
    "    if onClose is True and self.__barFeed.isIntraday():\n",
    "        raise Exception(\"Market-on-close not supported with intraday feeds\")\n",
    "\n",
    "    return OptionOrder(action, instrument, quantity, onClose, self.getInstrumentTraits(instrument))\n"
   ]
  },
  {
   "cell_type": "markdown",
   "metadata": {},
   "source": [
    "Troisième ajout, Dans \"fillStrategy.py\", abstract fillOptionOrder, basé sur fillMarketOrder. Elle sera implémentée dans les stratégies plus bas"
   ]
  },
  {
   "cell_type": "code",
   "execution_count": null,
   "metadata": {
    "collapsed": true
   },
   "outputs": [],
   "source": [
    "@abc.abstractmethod\n",
    "    def fillMarketOrder(self, broker_, order, bar):\n",
    "        \"\"\"Override to return the fill price and quantity for a market order or None if the order can't be filled\n",
    "        at the given time.\n",
    "\n",
    "        :param broker_: The broker.\n",
    "        :type broker_: :class:`Broker`\n",
    "        :param order: The order.\n",
    "        :type order: :class:`pyalgotrade.broker.MarketOrder`\n",
    "        :param bar: The current bar.\n",
    "        :type bar: :class:`pyalgotrade.bar.Bar`\n",
    "        :rtype: A :class:`FillInfo` or None if the order should not be filled.\n",
    "        \"\"\"\n",
    "        raise NotImplementedError()\n",
    "        \n",
    "    @abc.abstractmethod\n",
    "    def fillOptionOrder(self, broker_, order, bar):\n",
    "        \"\"\"Override to return the fill price and quantity for a market order or None if the order can't be filled\n",
    "        at the given time.\n",
    "\n",
    "        :param broker_: The broker.\n",
    "        :type broker_: :class:`Broker`\n",
    "        :param order: The order.\n",
    "        :type order: :class:`pyalgotrade.broker.MarketOrder`\n",
    "        :param bar: The current bar.\n",
    "        :type bar: :class:`pyalgotrade.bar.Bar`\n",
    "        :rtype: A :class:`FillInfo` or None if the order should not be filled.\n",
    "        \"\"\"\n",
    "        raise NotImplementedError()"
   ]
  },
  {
   "cell_type": "markdown",
   "metadata": {},
   "source": [
    "Quatrième ajout Dans \"fillStrategy.py\", classe defaultStrategy -> fillOptionOrder, basé sur fillMarketOrder. Elle fait la gestion de l'expiration"
   ]
  },
  {
   "cell_type": "code",
   "execution_count": null,
   "metadata": {
    "collapsed": true
   },
   "outputs": [],
   "source": []
  },
  {
   "cell_type": "markdown",
   "metadata": {},
   "source": [
    "La gestion de l’expiration se fait dans le broker de la stratégie. La méthode “__getEquityWithBars” calcule la valeur du portfolio à chaque évènement. On utilise le fait que la méthode utilise l’objet “bars” pour aller chercher la date de l’évènement actuel pous la comparer avec la date d’expiration qui est contenue dans le “Instrument”. Puisque les Instruments des options contient la date d’expiration dans le nom du fichier et le nom d’instrument qu’on génère au début."
   ]
  },
  {
   "cell_type": "code",
   "execution_count": 1,
   "metadata": {
    "collapsed": false
   },
   "outputs": [
    {
     "ename": "IndentationError",
     "evalue": "unexpected indent (<ipython-input-1-cde555c940f0>, line 3)",
     "output_type": "error",
     "traceback": [
      "\u001b[1;36m  File \u001b[1;32m\"<ipython-input-1-cde555c940f0>\"\u001b[1;36m, line \u001b[1;32m3\u001b[0m\n\u001b[1;33m    self.__expiryDate = None\u001b[0m\n\u001b[1;37m    ^\u001b[0m\n\u001b[1;31mIndentationError\u001b[0m\u001b[1;31m:\u001b[0m unexpected indent\n"
     ]
    }
   ],
   "source": [
    "  def __getEquityWithBars(self, bars):\n",
    "        ret = self.getCash()\n",
    "        if bars is not None:\n",
    "            \n",
    "            for instrument, shares in self.__shares.iteritems():\n",
    "                year = self._getBar(bars, instrument).getDateTime().year\n",
    "                month = self._getBar(bars, instrument).getDateTime().month\n",
    "                day = self._getBar(bars, instrument).getDateTime().day\n",
    "                \n",
    "                if datetime.strptime(instrument[-8:], '%Y%m%d') <= datetime(year, month, day):\n",
    "                    self.__logger.debug(\"POSITION EST EXPIREE\")\n",
    "                    shares = 0\n",
    "                    for order in self.getActiveOrders(instrument):\n",
    "                        self._unregisterOrder(order)\n",
    "                    \n",
    "                instrumentPrice = self._getBar(bars, instrument).getClose(self.getUseAdjustedValues())\n",
    "                ret += instrumentPrice * shares\n",
    "#        print \"%return "
   ]
  },
  {
   "cell_type": "markdown",
   "metadata": {
    "collapsed": false
   },
   "source": [
    "Si on roule test \"tutorial-4_test.py\" avec \n",
    "\n",
    "feed.addBarsFromCSV(\"bac20p20160308\", \"samples/bac20p20160308.csv\"),\n",
    "\n",
    "sur une période réduite de 3 jours, avec l'expiration lors de la deuxième journées, on peut voir qu'il y a des transactions sur la première journée, puis on observe la baisse de la valeur du portfolio quand les \"shares\" sont supprimées et on remarque qu'il n'y a plus de transation par la suite\n"
   ]
  },
  {
   "cell_type": "markdown",
   "metadata": {
    "collapsed": true
   },
   "source": [
    "![caption](tutorial_4_plots_3days.png)"
   ]
  },
  {
   "cell_type": "code",
   "execution_count": null,
   "metadata": {
    "collapsed": true
   },
   "outputs": [],
   "source": []
  }
 ],
 "metadata": {
  "anaconda-cloud": {},
  "celltoolbar": "Raw Cell Format",
  "kernelspec": {
   "display_name": "Python [Root]",
   "language": "python",
   "name": "Python [Root]"
  },
  "language_info": {
   "codemirror_mode": {
    "name": "ipython",
    "version": 2
   },
   "file_extension": ".py",
   "mimetype": "text/x-python",
   "name": "python",
   "nbconvert_exporter": "python",
   "pygments_lexer": "ipython2",
   "version": "2.7.12"
  }
 },
 "nbformat": 4,
 "nbformat_minor": 0
}
